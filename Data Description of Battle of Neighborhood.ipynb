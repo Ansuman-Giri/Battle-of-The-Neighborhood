{
    "cells": [
        {
            "cell_type": "markdown",
            "metadata": {
                "collapsed": true
            },
            "source": "# Data\n<p>Since we will be focusing on New York for opening our restaurant, we will be gathering the data for the same and the three main data we are gonna use are the New York Neighborhood data which we already used in the Neighborhoods in New York and the data about the cuisines in New York and the Geo spacial data of boundaries of the Neighborhoods in New York.\n</p>\n\n### Data 1:\n<p>New York Neighborhood Data which will be used to get to know about the various neighborhoods which are gonna take into consideration for our Project.\n</p>\n    <img src=\"https://raw.githubusercontent.com/judeleander/Coursera_Capstone/master/Battle%20of%20Neighborhoods/data-1.jpg\" alt=\"data1.jpg\" align=\"centre\">\n\n <p>   Data source :<a href=\"https://cocl.us/new_york_dataset\">cocl.us/new_york_dataset</a> </p>\n\n\n### Data 2:\n<p>Geo-spacial data of the New York to get a better understanding of the neighborhoods in it and their corresponding locations in the Folium map would make certain things clear for the Project. This will be achieved using the acquired data and visualize the same using Choropleth maps.\n\n\nData source : https://data.cityofnewyork.us/City-Government/Borough-Boundaries/tqmj-j8zm\n</p>\n\n### Data 3:\n<p>Finally the data going to be collected/acquired from the Foursquare API about the various restaurants in each neighborhood of New York city especially Indian cuisine, which will be used for acquiring the information regarding same for all the venues of each neighborhood.\n\nData source : Fousquare API\n    </p>"
        },
        {
            "cell_type": "code",
            "execution_count": null,
            "metadata": {},
            "outputs": [],
            "source": ""
        }
    ],
    "metadata": {
        "kernelspec": {
            "display_name": "Python 3.6",
            "language": "python",
            "name": "python3"
        },
        "language_info": {
            "codemirror_mode": {
                "name": "ipython",
                "version": 3
            },
            "file_extension": ".py",
            "mimetype": "text/x-python",
            "name": "python",
            "nbconvert_exporter": "python",
            "pygments_lexer": "ipython3",
            "version": "3.6.9"
        }
    },
    "nbformat": 4,
    "nbformat_minor": 1
}